{
 "cells": [
  {
   "cell_type": "markdown",
   "metadata": {},
   "source": [
    "# Wrangle and Analyze Data"
   ]
  },
  {
   "cell_type": "markdown",
   "metadata": {},
   "source": [
    "## Preliminaries\n",
    "\n",
    "Load packages and libraries required for subsequent blocks."
   ]
  },
  {
   "cell_type": "code",
   "execution_count": 103,
   "metadata": {
    "collapsed": true
   },
   "outputs": [],
   "source": [
    "# import packages\n",
    "import pandas as pd\n",
    "import numpy as np\n",
    "import requests\n",
    "import tweepy\n",
    "import json\n",
    "import os\n",
    "from timeit import default_timer as timer"
   ]
  },
  {
   "cell_type": "markdown",
   "metadata": {},
   "source": [
    "## Gather Data\n",
    "\n",
    "Gather data need for analyzing We Rate Dogs (@dog_rates) twitter feed. There are three files comprising the broader data set.\n",
    "\n",
    "### File on-hand: Twitter Archive\n",
    "\n",
    "This file was presented on and downloaded from the Udacity website. So it is simply read into the dataframe using the Pandas 'read_csv' function."
   ]
  },
  {
   "cell_type": "code",
   "execution_count": 104,
   "metadata": {},
   "outputs": [],
   "source": [
    "# read dog_rates twitter archive\n",
    "df = pd.read_csv('twitter-archive-enhanced.csv')"
   ]
  },
  {
   "cell_type": "code",
   "execution_count": 37,
   "metadata": {},
   "outputs": [
    {
     "data": {
      "text/html": [
       "<div>\n",
       "<style>\n",
       "    .dataframe thead tr:only-child th {\n",
       "        text-align: right;\n",
       "    }\n",
       "\n",
       "    .dataframe thead th {\n",
       "        text-align: left;\n",
       "    }\n",
       "\n",
       "    .dataframe tbody tr th {\n",
       "        vertical-align: top;\n",
       "    }\n",
       "</style>\n",
       "<table border=\"1\" class=\"dataframe\">\n",
       "  <thead>\n",
       "    <tr style=\"text-align: right;\">\n",
       "      <th></th>\n",
       "      <th>tweet_id</th>\n",
       "      <th>in_reply_to_status_id</th>\n",
       "      <th>in_reply_to_user_id</th>\n",
       "      <th>timestamp</th>\n",
       "      <th>source</th>\n",
       "      <th>text</th>\n",
       "      <th>retweeted_status_id</th>\n",
       "      <th>retweeted_status_user_id</th>\n",
       "      <th>retweeted_status_timestamp</th>\n",
       "      <th>expanded_urls</th>\n",
       "      <th>rating_numerator</th>\n",
       "      <th>rating_denominator</th>\n",
       "      <th>name</th>\n",
       "      <th>doggo</th>\n",
       "      <th>floofer</th>\n",
       "      <th>pupper</th>\n",
       "      <th>puppo</th>\n",
       "    </tr>\n",
       "  </thead>\n",
       "  <tbody>\n",
       "    <tr>\n",
       "      <th>175</th>\n",
       "      <td>857989990357356544</td>\n",
       "      <td>NaN</td>\n",
       "      <td>NaN</td>\n",
       "      <td>2017-04-28 16:08:49 +0000</td>\n",
       "      <td>&lt;a href=\"http://twitter.com/download/iphone\" r...</td>\n",
       "      <td>This is Rosie. She was just informed of the wa...</td>\n",
       "      <td>NaN</td>\n",
       "      <td>NaN</td>\n",
       "      <td>NaN</td>\n",
       "      <td>https://twitter.com/dog_rates/status/857989990...</td>\n",
       "      <td>12</td>\n",
       "      <td>10</td>\n",
       "      <td>Rosie</td>\n",
       "      <td>None</td>\n",
       "      <td>None</td>\n",
       "      <td>None</td>\n",
       "      <td>None</td>\n",
       "    </tr>\n",
       "    <tr>\n",
       "      <th>829</th>\n",
       "      <td>768909767477751808</td>\n",
       "      <td>NaN</td>\n",
       "      <td>NaN</td>\n",
       "      <td>2016-08-25 20:35:48 +0000</td>\n",
       "      <td>&lt;a href=\"http://twitter.com/download/iphone\" r...</td>\n",
       "      <td>RT @dog_rates: When it's Janet from accounting...</td>\n",
       "      <td>7.001438e+17</td>\n",
       "      <td>4.196984e+09</td>\n",
       "      <td>2016-02-18 02:24:13 +0000</td>\n",
       "      <td>https://twitter.com/dog_rates/status/700143752...</td>\n",
       "      <td>10</td>\n",
       "      <td>10</td>\n",
       "      <td>None</td>\n",
       "      <td>None</td>\n",
       "      <td>None</td>\n",
       "      <td>pupper</td>\n",
       "      <td>None</td>\n",
       "    </tr>\n",
       "    <tr>\n",
       "      <th>992</th>\n",
       "      <td>748692773788876800</td>\n",
       "      <td>NaN</td>\n",
       "      <td>NaN</td>\n",
       "      <td>2016-07-01 01:40:41 +0000</td>\n",
       "      <td>&lt;a href=\"http://twitter.com/download/iphone\" r...</td>\n",
       "      <td>That is Quizno. This is his beach. He does not...</td>\n",
       "      <td>NaN</td>\n",
       "      <td>NaN</td>\n",
       "      <td>NaN</td>\n",
       "      <td>https://twitter.com/dog_rates/status/748692773...</td>\n",
       "      <td>10</td>\n",
       "      <td>10</td>\n",
       "      <td>his</td>\n",
       "      <td>doggo</td>\n",
       "      <td>None</td>\n",
       "      <td>None</td>\n",
       "      <td>None</td>\n",
       "    </tr>\n",
       "    <tr>\n",
       "      <th>503</th>\n",
       "      <td>813066809284972545</td>\n",
       "      <td>NaN</td>\n",
       "      <td>NaN</td>\n",
       "      <td>2016-12-25 17:00:08 +0000</td>\n",
       "      <td>&lt;a href=\"http://twitter.com/download/iphone\" r...</td>\n",
       "      <td>This is Tyr. He is disgusted by holiday traffi...</td>\n",
       "      <td>NaN</td>\n",
       "      <td>NaN</td>\n",
       "      <td>NaN</td>\n",
       "      <td>https://twitter.com/dog_rates/status/813066809...</td>\n",
       "      <td>12</td>\n",
       "      <td>10</td>\n",
       "      <td>Tyr</td>\n",
       "      <td>None</td>\n",
       "      <td>None</td>\n",
       "      <td>None</td>\n",
       "      <td>None</td>\n",
       "    </tr>\n",
       "    <tr>\n",
       "      <th>2166</th>\n",
       "      <td>669363888236994561</td>\n",
       "      <td>NaN</td>\n",
       "      <td>NaN</td>\n",
       "      <td>2015-11-25 03:56:01 +0000</td>\n",
       "      <td>&lt;a href=\"http://twitter.com/download/iphone\" r...</td>\n",
       "      <td>Here we have a Gingivitis Pumpernickel named Z...</td>\n",
       "      <td>NaN</td>\n",
       "      <td>NaN</td>\n",
       "      <td>NaN</td>\n",
       "      <td>https://twitter.com/dog_rates/status/669363888...</td>\n",
       "      <td>10</td>\n",
       "      <td>10</td>\n",
       "      <td>None</td>\n",
       "      <td>None</td>\n",
       "      <td>None</td>\n",
       "      <td>None</td>\n",
       "      <td>None</td>\n",
       "    </tr>\n",
       "  </tbody>\n",
       "</table>\n",
       "</div>"
      ],
      "text/plain": [
       "                tweet_id  in_reply_to_status_id  in_reply_to_user_id  \\\n",
       "175   857989990357356544                    NaN                  NaN   \n",
       "829   768909767477751808                    NaN                  NaN   \n",
       "992   748692773788876800                    NaN                  NaN   \n",
       "503   813066809284972545                    NaN                  NaN   \n",
       "2166  669363888236994561                    NaN                  NaN   \n",
       "\n",
       "                      timestamp  \\\n",
       "175   2017-04-28 16:08:49 +0000   \n",
       "829   2016-08-25 20:35:48 +0000   \n",
       "992   2016-07-01 01:40:41 +0000   \n",
       "503   2016-12-25 17:00:08 +0000   \n",
       "2166  2015-11-25 03:56:01 +0000   \n",
       "\n",
       "                                                 source  \\\n",
       "175   <a href=\"http://twitter.com/download/iphone\" r...   \n",
       "829   <a href=\"http://twitter.com/download/iphone\" r...   \n",
       "992   <a href=\"http://twitter.com/download/iphone\" r...   \n",
       "503   <a href=\"http://twitter.com/download/iphone\" r...   \n",
       "2166  <a href=\"http://twitter.com/download/iphone\" r...   \n",
       "\n",
       "                                                   text  retweeted_status_id  \\\n",
       "175   This is Rosie. She was just informed of the wa...                  NaN   \n",
       "829   RT @dog_rates: When it's Janet from accounting...         7.001438e+17   \n",
       "992   That is Quizno. This is his beach. He does not...                  NaN   \n",
       "503   This is Tyr. He is disgusted by holiday traffi...                  NaN   \n",
       "2166  Here we have a Gingivitis Pumpernickel named Z...                  NaN   \n",
       "\n",
       "      retweeted_status_user_id retweeted_status_timestamp  \\\n",
       "175                        NaN                        NaN   \n",
       "829               4.196984e+09  2016-02-18 02:24:13 +0000   \n",
       "992                        NaN                        NaN   \n",
       "503                        NaN                        NaN   \n",
       "2166                       NaN                        NaN   \n",
       "\n",
       "                                          expanded_urls  rating_numerator  \\\n",
       "175   https://twitter.com/dog_rates/status/857989990...                12   \n",
       "829   https://twitter.com/dog_rates/status/700143752...                10   \n",
       "992   https://twitter.com/dog_rates/status/748692773...                10   \n",
       "503   https://twitter.com/dog_rates/status/813066809...                12   \n",
       "2166  https://twitter.com/dog_rates/status/669363888...                10   \n",
       "\n",
       "      rating_denominator   name  doggo floofer  pupper puppo  \n",
       "175                   10  Rosie   None    None    None  None  \n",
       "829                   10   None   None    None  pupper  None  \n",
       "992                   10    his  doggo    None    None  None  \n",
       "503                   10    Tyr   None    None    None  None  \n",
       "2166                  10   None   None    None    None  None  "
      ]
     },
     "execution_count": 37,
     "metadata": {},
     "output_type": "execute_result"
    }
   ],
   "source": [
    "# printing a sample of the dataframe allows for visual inspection.\n",
    "df.sample(5)"
   ]
  },
  {
   "cell_type": "code",
   "execution_count": 105,
   "metadata": {},
   "outputs": [
    {
     "name": "stdout",
     "output_type": "stream",
     "text": [
      "<class 'pandas.core.frame.DataFrame'>\n",
      "RangeIndex: 2356 entries, 0 to 2355\n",
      "Data columns (total 17 columns):\n",
      "tweet_id                      2356 non-null int64\n",
      "in_reply_to_status_id         78 non-null float64\n",
      "in_reply_to_user_id           78 non-null float64\n",
      "timestamp                     2356 non-null object\n",
      "source                        2356 non-null object\n",
      "text                          2356 non-null object\n",
      "retweeted_status_id           181 non-null float64\n",
      "retweeted_status_user_id      181 non-null float64\n",
      "retweeted_status_timestamp    181 non-null object\n",
      "expanded_urls                 2297 non-null object\n",
      "rating_numerator              2356 non-null int64\n",
      "rating_denominator            2356 non-null int64\n",
      "name                          2356 non-null object\n",
      "doggo                         2356 non-null object\n",
      "floofer                       2356 non-null object\n",
      "pupper                        2356 non-null object\n",
      "puppo                         2356 non-null object\n",
      "dtypes: float64(4), int64(3), object(10)\n",
      "memory usage: 313.0+ KB\n"
     ]
    }
   ],
   "source": [
    "# using the pandas info() function shows all the variables, their data-types and gives us \n",
    "# a count of the entries and missing values.\n",
    "df.info()"
   ]
  },
  {
   "cell_type": "markdown",
   "metadata": {},
   "source": [
    "### Download File from Server: Tweet Image Predictions\n",
    "\n",
    "For the tweet image predictions file, we download the file from a Udacity server using the 'requests'library. This file is then written (saved) to the project directory."
   ]
  },
  {
   "cell_type": "code",
   "execution_count": 19,
   "metadata": {},
   "outputs": [],
   "source": [
    "# download tweet image predictions from server - save into workspace\n",
    "image_prediction = {'https://d17h27t6h515a5.cloudfront.net/topher/2017/August/599fd2ad_image-predictions/image-predictions.tsv'}\n",
    "# 'for' loop downloads all files at URL list in ebert_review_urls variable\n",
    "for url in image_prediction:\n",
    "    response = requests.get(url)\n",
    "    with open(os.path.join(url.split('/')[-1]), mode = 'wb') as file:\n",
    "        file.write(response.content)"
   ]
  },
  {
   "cell_type": "markdown",
   "metadata": {},
   "source": [
    "We can verify that the download occurred by viewing the project directory to confirm there is an 'image_predictions.csv' file in it"
   ]
  },
  {
   "cell_type": "code",
   "execution_count": 106,
   "metadata": {},
   "outputs": [
    {
     "data": {
      "text/plain": [
       "['stuff.txt',\n",
       " 'wrangle_act.ipynb',\n",
       " 'twitter-archive-enhanced.csv',\n",
       " '.DS_Store',\n",
       " 'README.md',\n",
       " '.gitignore',\n",
       " 'tweepy_practice.py',\n",
       " '.ipynb_checkpoints',\n",
       " 'image-predictions.tsv',\n",
       " '.git',\n",
       " 'tweet_json.txt']"
      ]
     },
     "execution_count": 106,
     "metadata": {},
     "output_type": "execute_result"
    }
   ],
   "source": [
    "os.listdir()"
   ]
  },
  {
   "cell_type": "markdown",
   "metadata": {},
   "source": [
    "We then open the file using the 'read_csv' function with the tab-separator indicated."
   ]
  },
  {
   "cell_type": "code",
   "execution_count": 107,
   "metadata": {
    "collapsed": true
   },
   "outputs": [],
   "source": [
    "df2 = pd.read_csv('image-predictions.tsv',sep='\\t')"
   ]
  },
  {
   "cell_type": "markdown",
   "metadata": {},
   "source": [
    "Next, we perform visual inspection and examine the fields using the info() function, same as with the tweet archive file."
   ]
  },
  {
   "cell_type": "code",
   "execution_count": 108,
   "metadata": {},
   "outputs": [
    {
     "data": {
      "text/html": [
       "<div>\n",
       "<style>\n",
       "    .dataframe thead tr:only-child th {\n",
       "        text-align: right;\n",
       "    }\n",
       "\n",
       "    .dataframe thead th {\n",
       "        text-align: left;\n",
       "    }\n",
       "\n",
       "    .dataframe tbody tr th {\n",
       "        vertical-align: top;\n",
       "    }\n",
       "</style>\n",
       "<table border=\"1\" class=\"dataframe\">\n",
       "  <thead>\n",
       "    <tr style=\"text-align: right;\">\n",
       "      <th></th>\n",
       "      <th>tweet_id</th>\n",
       "      <th>jpg_url</th>\n",
       "      <th>img_num</th>\n",
       "      <th>p1</th>\n",
       "      <th>p1_conf</th>\n",
       "      <th>p1_dog</th>\n",
       "      <th>p2</th>\n",
       "      <th>p2_conf</th>\n",
       "      <th>p2_dog</th>\n",
       "      <th>p3</th>\n",
       "      <th>p3_conf</th>\n",
       "      <th>p3_dog</th>\n",
       "    </tr>\n",
       "  </thead>\n",
       "  <tbody>\n",
       "    <tr>\n",
       "      <th>1985</th>\n",
       "      <td>872261713294495745</td>\n",
       "      <td>https://pbs.twimg.com/media/DBrlZk2UQAAfAkd.jpg</td>\n",
       "      <td>2</td>\n",
       "      <td>Labrador_retriever</td>\n",
       "      <td>0.972019</td>\n",
       "      <td>True</td>\n",
       "      <td>flat-coated_retriever</td>\n",
       "      <td>0.008178</td>\n",
       "      <td>True</td>\n",
       "      <td>Chesapeake_Bay_retriever</td>\n",
       "      <td>0.007359</td>\n",
       "      <td>True</td>\n",
       "    </tr>\n",
       "    <tr>\n",
       "      <th>340</th>\n",
       "      <td>672248013293752320</td>\n",
       "      <td>https://pbs.twimg.com/media/CVROAIfWsAECA5t.jpg</td>\n",
       "      <td>1</td>\n",
       "      <td>Irish_terrier</td>\n",
       "      <td>0.413173</td>\n",
       "      <td>True</td>\n",
       "      <td>Airedale</td>\n",
       "      <td>0.335616</td>\n",
       "      <td>True</td>\n",
       "      <td>toy_poodle</td>\n",
       "      <td>0.027952</td>\n",
       "      <td>True</td>\n",
       "    </tr>\n",
       "    <tr>\n",
       "      <th>1013</th>\n",
       "      <td>709556954897764353</td>\n",
       "      <td>https://pbs.twimg.com/media/CdjaSFCWAAAJZh3.jpg</td>\n",
       "      <td>2</td>\n",
       "      <td>golden_retriever</td>\n",
       "      <td>0.790026</td>\n",
       "      <td>True</td>\n",
       "      <td>kuvasz</td>\n",
       "      <td>0.105031</td>\n",
       "      <td>True</td>\n",
       "      <td>Labrador_retriever</td>\n",
       "      <td>0.087051</td>\n",
       "      <td>True</td>\n",
       "    </tr>\n",
       "    <tr>\n",
       "      <th>1486</th>\n",
       "      <td>781955203444699136</td>\n",
       "      <td>https://pbs.twimg.com/media/CtoQGu4XgAQgv5m.jpg</td>\n",
       "      <td>1</td>\n",
       "      <td>pool_table</td>\n",
       "      <td>0.179568</td>\n",
       "      <td>False</td>\n",
       "      <td>dining_table</td>\n",
       "      <td>0.154396</td>\n",
       "      <td>False</td>\n",
       "      <td>microwave</td>\n",
       "      <td>0.033690</td>\n",
       "      <td>False</td>\n",
       "    </tr>\n",
       "    <tr>\n",
       "      <th>746</th>\n",
       "      <td>687664829264453632</td>\n",
       "      <td>https://pbs.twimg.com/media/CYsTg1XUsAEPjxE.jpg</td>\n",
       "      <td>1</td>\n",
       "      <td>pug</td>\n",
       "      <td>0.957365</td>\n",
       "      <td>True</td>\n",
       "      <td>French_bulldog</td>\n",
       "      <td>0.038559</td>\n",
       "      <td>True</td>\n",
       "      <td>toy_poodle</td>\n",
       "      <td>0.000667</td>\n",
       "      <td>True</td>\n",
       "    </tr>\n",
       "  </tbody>\n",
       "</table>\n",
       "</div>"
      ],
      "text/plain": [
       "                tweet_id                                          jpg_url  \\\n",
       "1985  872261713294495745  https://pbs.twimg.com/media/DBrlZk2UQAAfAkd.jpg   \n",
       "340   672248013293752320  https://pbs.twimg.com/media/CVROAIfWsAECA5t.jpg   \n",
       "1013  709556954897764353  https://pbs.twimg.com/media/CdjaSFCWAAAJZh3.jpg   \n",
       "1486  781955203444699136  https://pbs.twimg.com/media/CtoQGu4XgAQgv5m.jpg   \n",
       "746   687664829264453632  https://pbs.twimg.com/media/CYsTg1XUsAEPjxE.jpg   \n",
       "\n",
       "      img_num                  p1   p1_conf  p1_dog                     p2  \\\n",
       "1985        2  Labrador_retriever  0.972019    True  flat-coated_retriever   \n",
       "340         1       Irish_terrier  0.413173    True               Airedale   \n",
       "1013        2    golden_retriever  0.790026    True                 kuvasz   \n",
       "1486        1          pool_table  0.179568   False           dining_table   \n",
       "746         1                 pug  0.957365    True         French_bulldog   \n",
       "\n",
       "       p2_conf  p2_dog                        p3   p3_conf  p3_dog  \n",
       "1985  0.008178    True  Chesapeake_Bay_retriever  0.007359    True  \n",
       "340   0.335616    True                toy_poodle  0.027952    True  \n",
       "1013  0.105031    True        Labrador_retriever  0.087051    True  \n",
       "1486  0.154396   False                 microwave  0.033690   False  \n",
       "746   0.038559    True                toy_poodle  0.000667    True  "
      ]
     },
     "execution_count": 108,
     "metadata": {},
     "output_type": "execute_result"
    }
   ],
   "source": [
    "df2.sample(5)"
   ]
  },
  {
   "cell_type": "code",
   "execution_count": 109,
   "metadata": {},
   "outputs": [
    {
     "name": "stdout",
     "output_type": "stream",
     "text": [
      "<class 'pandas.core.frame.DataFrame'>\n",
      "RangeIndex: 2075 entries, 0 to 2074\n",
      "Data columns (total 12 columns):\n",
      "tweet_id    2075 non-null int64\n",
      "jpg_url     2075 non-null object\n",
      "img_num     2075 non-null int64\n",
      "p1          2075 non-null object\n",
      "p1_conf     2075 non-null float64\n",
      "p1_dog      2075 non-null bool\n",
      "p2          2075 non-null object\n",
      "p2_conf     2075 non-null float64\n",
      "p2_dog      2075 non-null bool\n",
      "p3          2075 non-null object\n",
      "p3_conf     2075 non-null float64\n",
      "p3_dog      2075 non-null bool\n",
      "dtypes: bool(3), float64(3), int64(2), object(4)\n",
      "memory usage: 152.1+ KB\n"
     ]
    }
   ],
   "source": [
    "df2.info()"
   ]
  },
  {
   "cell_type": "markdown",
   "metadata": {},
   "source": [
    "### Create File Dynamically Using Tweepy to Query Twitter API: tweet_json.txt File\n",
    "\n",
    "The third file needed for this project containing information such as 'retweet' and 'favorite' counts is created dynamically by querying the Twitter api.\n",
    "\n",
    "First step here took place elsewhere. At apps.twitter.com, I created a (dummy) app which enabled me to create authorization keys as required by Twitter.\n",
    "\n",
    "Second step is to enter code as indicated in the [Tweepy documentation](http://tweepy.readthedocs.io/en/v3.6.0/getting_started.html#introduction) authenticating access to the API."
   ]
  },
  {
   "cell_type": "code",
   "execution_count": 82,
   "metadata": {
    "collapsed": true
   },
   "outputs": [],
   "source": [
    "# Tweepy auth stuff\n",
    "# place keys here - delete manually for now"
   ]
  },
  {
   "cell_type": "code",
   "execution_count": 110,
   "metadata": {
    "collapsed": true
   },
   "outputs": [],
   "source": [
    "# Tweepy auth stuff continued: note the parameters included in the API call\n",
    "# setting parser to tweepy.JSONParser ensures that it returns good JSON\n",
    "# rate_limit parameters enable the function to work through the Twitter rate limit\n",
    "auth = tweepy.OAuthHandler(consumer_key, consumer_secret)\n",
    "auth.set_access_token(access_token, access_token_secret)\n",
    "\n",
    "api = tweepy.API(auth,parser=tweepy.parsers.JSONParser(), wait_on_rate_limit=True,\\\n",
    "                 wait_on_rate_limit_notify=True)"
   ]
  },
  {
   "cell_type": "markdown",
   "metadata": {},
   "source": [
    "The next step is for Tweepy to access twitter data for the 2356 tweets in the tweet_archive file and to download that data as a json file. First we take the tweet_id variable in the first dataframe (created from the twitter archive csv) and turn it into a list.  The length of that list is returned as a test (2356 is the correct number)."
   ]
  },
  {
   "cell_type": "code",
   "execution_count": 87,
   "metadata": {},
   "outputs": [
    {
     "data": {
      "text/plain": [
       "2356"
      ]
     },
     "execution_count": 87,
     "metadata": {},
     "output_type": "execute_result"
    }
   ],
   "source": [
    "# put all of the tweetids from the twitter_archive csv/dataframe into a list\n",
    "tweetids = df['tweet_id'].tolist()\n",
    "# tweetids\n",
    "len(tweetids)"
   ]
  },
  {
   "cell_type": "markdown",
   "metadata": {},
   "source": [
    "Then we are going to loop through the list of tweet_ids to access the corresponding records via the Twitter api. We are using a try-except block to save the twitter status for the ids that have records and, separately, to keep a file of the ids which have been deleted. Thanks to the \"wait_on_rate_limit\" parameter in the api call, the function will not timeout while waiting for new availability from the API."
   ]
  },
  {
   "cell_type": "code",
   "execution_count": 89,
   "metadata": {
    "scrolled": true
   },
   "outputs": [
    {
     "name": "stdout",
     "output_type": "stream",
     "text": [
      "No status found for tweetid 888202515573088257\n",
      "Time elapsed to error 4.967670181998983\n",
      "No status found for tweetid 873697596434513921\n",
      "Time elapsed to error 21.60596933600027\n",
      "No status found for tweetid 869988702071779329\n",
      "Time elapsed to error 26.490966256998945\n",
      "No status found for tweetid 866816280283807744\n",
      "Time elapsed to error 29.46525864698924\n",
      "No status found for tweetid 861769973181624320\n",
      "Time elapsed to error 34.22458414500579\n",
      "No status found for tweetid 845459076796616705\n",
      "Time elapsed to error 53.73645277399919\n",
      "No status found for tweetid 842892208864923648\n",
      "Time elapsed to error 56.511891781992745\n",
      "No status found for tweetid 837012587749474308\n",
      "Time elapsed to error 65.38332627300406\n",
      "No status found for tweetid 827228250799742977\n",
      "Time elapsed to error 83.12681407199125\n",
      "No status found for tweetid 802247111496568832\n",
      "Time elapsed to error 122.45716445101425\n",
      "No status found for tweetid 775096608509886464\n",
      "Time elapsed to error 169.60564937099116\n"
     ]
    },
    {
     "name": "stderr",
     "output_type": "stream",
     "text": [
      "Rate limit reached. Sleeping for: 468\n",
      "Rate limit reached. Sleeping for: 708\n"
     ]
    },
    {
     "name": "stdout",
     "output_type": "stream",
     "text": [
      "Time total runtime for function 2.826760822849853 minutes.\n",
      "2345\n",
      "11\n"
     ]
    }
   ],
   "source": [
    "# List of dictionaries to build and convert to a DataFrame later\n",
    "tweet_list = []\n",
    "tweet_errors = []\n",
    "start = timer()\n",
    "for tweet in tweetids:\n",
    "    try:\n",
    "        full_status = api.get_status(tweet, tweet_mode='extended')\n",
    "        tweet_list.append(full_status)\n",
    "    except Exception as e:\n",
    "        end = timer()\n",
    "        print('No status found for tweetid ' + str(tweet))\n",
    "        print('Time elapsed to error ' + str(end - start))\n",
    "        tweet_errors.append(tweet)\n",
    "print('Total runtime for function ' + str((end - start)/60) + ' minutes.')\n",
    "print(len(tweet_list))\n",
    "print (len(tweet_errors))"
   ]
  },
  {
   "cell_type": "markdown",
   "metadata": {},
   "source": [
    "There were 2345 tweets that had meta-data returned and 11 which had been deleted subsequent to the creation of the twitter_archive csv.  Next let's take a look at one line from the tweet_list to see what the data looks like."
   ]
  },
  {
   "cell_type": "code",
   "execution_count": 90,
   "metadata": {},
   "outputs": [
    {
     "data": {
      "text/plain": [
       "[{'contributors': None,\n",
       "  'coordinates': None,\n",
       "  'created_at': 'Tue Aug 01 16:23:56 +0000 2017',\n",
       "  'display_text_range': [0, 85],\n",
       "  'entities': {'hashtags': [],\n",
       "   'media': [{'display_url': 'pic.twitter.com/MgUWQ76dJU',\n",
       "     'expanded_url': 'https://twitter.com/dog_rates/status/892420643555336193/photo/1',\n",
       "     'id': 892420639486877696,\n",
       "     'id_str': '892420639486877696',\n",
       "     'indices': [86, 109],\n",
       "     'media_url': 'http://pbs.twimg.com/media/DGKD1-bXoAAIAUK.jpg',\n",
       "     'media_url_https': 'https://pbs.twimg.com/media/DGKD1-bXoAAIAUK.jpg',\n",
       "     'sizes': {'large': {'h': 528, 'resize': 'fit', 'w': 540},\n",
       "      'medium': {'h': 528, 'resize': 'fit', 'w': 540},\n",
       "      'small': {'h': 528, 'resize': 'fit', 'w': 540},\n",
       "      'thumb': {'h': 150, 'resize': 'crop', 'w': 150}},\n",
       "     'type': 'photo',\n",
       "     'url': 'https://t.co/MgUWQ76dJU'}],\n",
       "   'symbols': [],\n",
       "   'urls': [],\n",
       "   'user_mentions': []},\n",
       "  'extended_entities': {'media': [{'display_url': 'pic.twitter.com/MgUWQ76dJU',\n",
       "     'expanded_url': 'https://twitter.com/dog_rates/status/892420643555336193/photo/1',\n",
       "     'id': 892420639486877696,\n",
       "     'id_str': '892420639486877696',\n",
       "     'indices': [86, 109],\n",
       "     'media_url': 'http://pbs.twimg.com/media/DGKD1-bXoAAIAUK.jpg',\n",
       "     'media_url_https': 'https://pbs.twimg.com/media/DGKD1-bXoAAIAUK.jpg',\n",
       "     'sizes': {'large': {'h': 528, 'resize': 'fit', 'w': 540},\n",
       "      'medium': {'h': 528, 'resize': 'fit', 'w': 540},\n",
       "      'small': {'h': 528, 'resize': 'fit', 'w': 540},\n",
       "      'thumb': {'h': 150, 'resize': 'crop', 'w': 150}},\n",
       "     'type': 'photo',\n",
       "     'url': 'https://t.co/MgUWQ76dJU'}]},\n",
       "  'favorite_count': 38693,\n",
       "  'favorited': False,\n",
       "  'full_text': \"This is Phineas. He's a mystical boy. Only ever appears in the hole of a donut. 13/10 https://t.co/MgUWQ76dJU\",\n",
       "  'geo': None,\n",
       "  'id': 892420643555336193,\n",
       "  'id_str': '892420643555336193',\n",
       "  'in_reply_to_screen_name': None,\n",
       "  'in_reply_to_status_id': None,\n",
       "  'in_reply_to_status_id_str': None,\n",
       "  'in_reply_to_user_id': None,\n",
       "  'in_reply_to_user_id_str': None,\n",
       "  'is_quote_status': False,\n",
       "  'lang': 'en',\n",
       "  'place': None,\n",
       "  'possibly_sensitive': False,\n",
       "  'possibly_sensitive_appealable': False,\n",
       "  'retweet_count': 8559,\n",
       "  'retweeted': False,\n",
       "  'source': '<a href=\"http://twitter.com/download/iphone\" rel=\"nofollow\">Twitter for iPhone</a>',\n",
       "  'truncated': False,\n",
       "  'user': {'contributors_enabled': False,\n",
       "   'created_at': 'Sun Nov 15 21:41:29 +0000 2015',\n",
       "   'default_profile': False,\n",
       "   'default_profile_image': False,\n",
       "   'description': 'Your Only Source for Pawfessional Dog Ratings STORE: @ShopWeRateDogs | IG, FB & SC: WeRateDogs | MOBILE APP: @GoodDogsGame Business: dogratingtwitter@gmail.com',\n",
       "   'entities': {'description': {'urls': []},\n",
       "    'url': {'urls': [{'display_url': 'weratedogs.com',\n",
       "       'expanded_url': 'http://weratedogs.com',\n",
       "       'indices': [0, 23],\n",
       "       'url': 'https://t.co/N7sNNHAEXS'}]}},\n",
       "   'favourites_count': 134496,\n",
       "   'follow_request_sent': False,\n",
       "   'followers_count': 6988979,\n",
       "   'following': False,\n",
       "   'friends_count': 9,\n",
       "   'geo_enabled': True,\n",
       "   'has_extended_profile': True,\n",
       "   'id': 4196983835,\n",
       "   'id_str': '4196983835',\n",
       "   'is_translation_enabled': False,\n",
       "   'is_translator': False,\n",
       "   'lang': 'en',\n",
       "   'listed_count': 4548,\n",
       "   'location': '𝓶𝓮𝓻𝓬𝓱 ↴      DM YOUR DOGS',\n",
       "   'name': 'WeRateDogs™🏳️\\u200d🌈',\n",
       "   'notifications': False,\n",
       "   'profile_background_color': '000000',\n",
       "   'profile_background_image_url': 'http://abs.twimg.com/images/themes/theme1/bg.png',\n",
       "   'profile_background_image_url_https': 'https://abs.twimg.com/images/themes/theme1/bg.png',\n",
       "   'profile_background_tile': False,\n",
       "   'profile_banner_url': 'https://pbs.twimg.com/profile_banners/4196983835/1525830435',\n",
       "   'profile_image_url': 'http://pbs.twimg.com/profile_images/948761950363664385/Fpr2Oz35_normal.jpg',\n",
       "   'profile_image_url_https': 'https://pbs.twimg.com/profile_images/948761950363664385/Fpr2Oz35_normal.jpg',\n",
       "   'profile_link_color': 'F5ABB5',\n",
       "   'profile_sidebar_border_color': '000000',\n",
       "   'profile_sidebar_fill_color': '000000',\n",
       "   'profile_text_color': '000000',\n",
       "   'profile_use_background_image': False,\n",
       "   'protected': False,\n",
       "   'screen_name': 'dog_rates',\n",
       "   'statuses_count': 7185,\n",
       "   'time_zone': None,\n",
       "   'translator_type': 'none',\n",
       "   'url': 'https://t.co/N7sNNHAEXS',\n",
       "   'utc_offset': None,\n",
       "   'verified': True}}]"
      ]
     },
     "execution_count": 90,
     "metadata": {},
     "output_type": "execute_result"
    }
   ],
   "source": [
    "tweet_list[:1]"
   ]
  },
  {
   "cell_type": "markdown",
   "metadata": {},
   "source": [
    "This appears to be well-formed JSON:we'll know for sure when we save it and try to reopen that file.  Next step is to store the output as a text file 'tweet_json.txt' using the json.dump function."
   ]
  },
  {
   "cell_type": "code",
   "execution_count": 91,
   "metadata": {},
   "outputs": [],
   "source": [
    "# Store tweet info in JSON format\n",
    "\n",
    "with open('tweet_json.txt', 'w') as outfile:  \n",
    "    json.dump(tweet_list, outfile)"
   ]
  },
  {
   "cell_type": "markdown",
   "metadata": {},
   "source": [
    "Our test to make sure it worked is to see if there is a 'tweet_json.txt' file in our working directory."
   ]
  },
  {
   "cell_type": "code",
   "execution_count": 111,
   "metadata": {},
   "outputs": [
    {
     "data": {
      "text/plain": [
       "['stuff.txt',\n",
       " 'wrangle_act.ipynb',\n",
       " 'twitter-archive-enhanced.csv',\n",
       " '.DS_Store',\n",
       " 'README.md',\n",
       " '.gitignore',\n",
       " 'tweepy_practice.py',\n",
       " '.ipynb_checkpoints',\n",
       " 'image-predictions.tsv',\n",
       " '.git',\n",
       " 'tweet_json.txt']"
      ]
     },
     "execution_count": 111,
     "metadata": {},
     "output_type": "execute_result"
    }
   ],
   "source": [
    "os.listdir()"
   ]
  },
  {
   "cell_type": "markdown",
   "metadata": {},
   "source": [
    "And it is there! Our next step is to read this text file into a dataframe using Pandas read_json function"
   ]
  },
  {
   "cell_type": "code",
   "execution_count": 112,
   "metadata": {},
   "outputs": [],
   "source": [
    "df_json = pd.read_json(open('tweet_json.txt'))"
   ]
  },
  {
   "cell_type": "code",
   "execution_count": 113,
   "metadata": {},
   "outputs": [
    {
     "data": {
      "text/html": [
       "<div>\n",
       "<style>\n",
       "    .dataframe thead tr:only-child th {\n",
       "        text-align: right;\n",
       "    }\n",
       "\n",
       "    .dataframe thead th {\n",
       "        text-align: left;\n",
       "    }\n",
       "\n",
       "    .dataframe tbody tr th {\n",
       "        vertical-align: top;\n",
       "    }\n",
       "</style>\n",
       "<table border=\"1\" class=\"dataframe\">\n",
       "  <thead>\n",
       "    <tr style=\"text-align: right;\">\n",
       "      <th></th>\n",
       "      <th>contributors</th>\n",
       "      <th>coordinates</th>\n",
       "      <th>created_at</th>\n",
       "      <th>display_text_range</th>\n",
       "      <th>entities</th>\n",
       "      <th>extended_entities</th>\n",
       "      <th>favorite_count</th>\n",
       "      <th>favorited</th>\n",
       "      <th>full_text</th>\n",
       "      <th>geo</th>\n",
       "      <th>...</th>\n",
       "      <th>quoted_status</th>\n",
       "      <th>quoted_status_id</th>\n",
       "      <th>quoted_status_id_str</th>\n",
       "      <th>quoted_status_permalink</th>\n",
       "      <th>retweet_count</th>\n",
       "      <th>retweeted</th>\n",
       "      <th>retweeted_status</th>\n",
       "      <th>source</th>\n",
       "      <th>truncated</th>\n",
       "      <th>user</th>\n",
       "    </tr>\n",
       "  </thead>\n",
       "  <tbody>\n",
       "    <tr>\n",
       "      <th>0</th>\n",
       "      <td>NaN</td>\n",
       "      <td>NaN</td>\n",
       "      <td>2017-08-01 16:23:56</td>\n",
       "      <td>[0, 85]</td>\n",
       "      <td>{'hashtags': [], 'symbols': [], 'user_mentions...</td>\n",
       "      <td>{'media': [{'id': 892420639486877696, 'id_str'...</td>\n",
       "      <td>38693</td>\n",
       "      <td>False</td>\n",
       "      <td>This is Phineas. He's a mystical boy. Only eve...</td>\n",
       "      <td>NaN</td>\n",
       "      <td>...</td>\n",
       "      <td>NaN</td>\n",
       "      <td>NaN</td>\n",
       "      <td>NaN</td>\n",
       "      <td>NaN</td>\n",
       "      <td>8559</td>\n",
       "      <td>False</td>\n",
       "      <td>NaN</td>\n",
       "      <td>&lt;a href=\"http://twitter.com/download/iphone\" r...</td>\n",
       "      <td>False</td>\n",
       "      <td>{'id': 4196983835, 'id_str': '4196983835', 'na...</td>\n",
       "    </tr>\n",
       "  </tbody>\n",
       "</table>\n",
       "<p>1 rows × 32 columns</p>\n",
       "</div>"
      ],
      "text/plain": [
       "   contributors  coordinates          created_at display_text_range  \\\n",
       "0           NaN          NaN 2017-08-01 16:23:56            [0, 85]   \n",
       "\n",
       "                                            entities  \\\n",
       "0  {'hashtags': [], 'symbols': [], 'user_mentions...   \n",
       "\n",
       "                                   extended_entities  favorite_count  \\\n",
       "0  {'media': [{'id': 892420639486877696, 'id_str'...           38693   \n",
       "\n",
       "   favorited                                          full_text  geo  \\\n",
       "0      False  This is Phineas. He's a mystical boy. Only eve...  NaN   \n",
       "\n",
       "                         ...                          quoted_status  \\\n",
       "0                        ...                                    NaN   \n",
       "\n",
       "   quoted_status_id quoted_status_id_str  quoted_status_permalink  \\\n",
       "0               NaN                  NaN                      NaN   \n",
       "\n",
       "   retweet_count  retweeted  retweeted_status  \\\n",
       "0           8559      False               NaN   \n",
       "\n",
       "                                              source truncated  \\\n",
       "0  <a href=\"http://twitter.com/download/iphone\" r...     False   \n",
       "\n",
       "                                                user  \n",
       "0  {'id': 4196983835, 'id_str': '4196983835', 'na...  \n",
       "\n",
       "[1 rows x 32 columns]"
      ]
     },
     "execution_count": 113,
     "metadata": {},
     "output_type": "execute_result"
    }
   ],
   "source": [
    "df_json.head(1)"
   ]
  },
  {
   "cell_type": "markdown",
   "metadata": {},
   "source": [
    "This is a massive file with a ton of data, so I only printed out the first item to make sure that the dataframe is properly formed. The next (and *final*) step in gathering our data is to select only the variables needed for this project ('id','retweet_count','favorite_count') and put them into a new dataframe."
   ]
  },
  {
   "cell_type": "code",
   "execution_count": 114,
   "metadata": {
    "collapsed": true
   },
   "outputs": [],
   "source": [
    "df3 = df_json[['id','retweet_count','favorite_count']]"
   ]
  },
  {
   "cell_type": "code",
   "execution_count": 115,
   "metadata": {},
   "outputs": [
    {
     "name": "stdout",
     "output_type": "stream",
     "text": [
      "<class 'pandas.core.frame.DataFrame'>\n",
      "Int64Index: 2345 entries, 0 to 2344\n",
      "Data columns (total 3 columns):\n",
      "id                2345 non-null int64\n",
      "retweet_count     2345 non-null int64\n",
      "favorite_count    2345 non-null int64\n",
      "dtypes: int64(3)\n",
      "memory usage: 73.3 KB\n"
     ]
    }
   ],
   "source": [
    "df3.info()"
   ]
  },
  {
   "cell_type": "code",
   "execution_count": 116,
   "metadata": {},
   "outputs": [
    {
     "data": {
      "text/html": [
       "<div>\n",
       "<style>\n",
       "    .dataframe thead tr:only-child th {\n",
       "        text-align: right;\n",
       "    }\n",
       "\n",
       "    .dataframe thead th {\n",
       "        text-align: left;\n",
       "    }\n",
       "\n",
       "    .dataframe tbody tr th {\n",
       "        vertical-align: top;\n",
       "    }\n",
       "</style>\n",
       "<table border=\"1\" class=\"dataframe\">\n",
       "  <thead>\n",
       "    <tr style=\"text-align: right;\">\n",
       "      <th></th>\n",
       "      <th>id</th>\n",
       "      <th>retweet_count</th>\n",
       "      <th>favorite_count</th>\n",
       "    </tr>\n",
       "  </thead>\n",
       "  <tbody>\n",
       "    <tr>\n",
       "      <th>0</th>\n",
       "      <td>892420643555336193</td>\n",
       "      <td>8559</td>\n",
       "      <td>38693</td>\n",
       "    </tr>\n",
       "    <tr>\n",
       "      <th>1</th>\n",
       "      <td>892177421306343426</td>\n",
       "      <td>6294</td>\n",
       "      <td>33167</td>\n",
       "    </tr>\n",
       "    <tr>\n",
       "      <th>2</th>\n",
       "      <td>891815181378084864</td>\n",
       "      <td>4176</td>\n",
       "      <td>24967</td>\n",
       "    </tr>\n",
       "  </tbody>\n",
       "</table>\n",
       "</div>"
      ],
      "text/plain": [
       "                   id  retweet_count  favorite_count\n",
       "0  892420643555336193           8559           38693\n",
       "1  892177421306343426           6294           33167\n",
       "2  891815181378084864           4176           24967"
      ]
     },
     "execution_count": 116,
     "metadata": {},
     "output_type": "execute_result"
    }
   ],
   "source": [
    "df3.head(3)"
   ]
  },
  {
   "cell_type": "markdown",
   "metadata": {},
   "source": [
    "We can see that the dataframe for these items is complete and tidy.  Now on to further assessment of the data we have gathered in these three files.\n",
    "\n",
    "## Assess Data"
   ]
  },
  {
   "cell_type": "markdown",
   "metadata": {},
   "source": [
    "Let's start by visually inspecting each of the three dataframes created from the three files."
   ]
  },
  {
   "cell_type": "code",
   "execution_count": 118,
   "metadata": {},
   "outputs": [
    {
     "data": {
      "text/html": [
       "<div>\n",
       "<style>\n",
       "    .dataframe thead tr:only-child th {\n",
       "        text-align: right;\n",
       "    }\n",
       "\n",
       "    .dataframe thead th {\n",
       "        text-align: left;\n",
       "    }\n",
       "\n",
       "    .dataframe tbody tr th {\n",
       "        vertical-align: top;\n",
       "    }\n",
       "</style>\n",
       "<table border=\"1\" class=\"dataframe\">\n",
       "  <thead>\n",
       "    <tr style=\"text-align: right;\">\n",
       "      <th></th>\n",
       "      <th>tweet_id</th>\n",
       "      <th>in_reply_to_status_id</th>\n",
       "      <th>in_reply_to_user_id</th>\n",
       "      <th>timestamp</th>\n",
       "      <th>source</th>\n",
       "      <th>text</th>\n",
       "      <th>retweeted_status_id</th>\n",
       "      <th>retweeted_status_user_id</th>\n",
       "      <th>retweeted_status_timestamp</th>\n",
       "      <th>expanded_urls</th>\n",
       "      <th>rating_numerator</th>\n",
       "      <th>rating_denominator</th>\n",
       "      <th>name</th>\n",
       "      <th>doggo</th>\n",
       "      <th>floofer</th>\n",
       "      <th>pupper</th>\n",
       "      <th>puppo</th>\n",
       "    </tr>\n",
       "  </thead>\n",
       "  <tbody>\n",
       "    <tr>\n",
       "      <th>1791</th>\n",
       "      <td>677335745548390400</td>\n",
       "      <td>NaN</td>\n",
       "      <td>NaN</td>\n",
       "      <td>2015-12-17 03:53:20 +0000</td>\n",
       "      <td>&lt;a href=\"http://vine.co\" rel=\"nofollow\"&gt;Vine -...</td>\n",
       "      <td>Downright inspiring 12/10 https://t.co/vSLtYBWHcQ</td>\n",
       "      <td>NaN</td>\n",
       "      <td>NaN</td>\n",
       "      <td>NaN</td>\n",
       "      <td>https://vine.co/v/hbLbH77Ar67</td>\n",
       "      <td>12</td>\n",
       "      <td>10</td>\n",
       "      <td>None</td>\n",
       "      <td>None</td>\n",
       "      <td>None</td>\n",
       "      <td>None</td>\n",
       "      <td>None</td>\n",
       "    </tr>\n",
       "    <tr>\n",
       "      <th>1603</th>\n",
       "      <td>685943807276412928</td>\n",
       "      <td>NaN</td>\n",
       "      <td>NaN</td>\n",
       "      <td>2016-01-09 21:58:42 +0000</td>\n",
       "      <td>&lt;a href=\"http://twitter.com/download/iphone\" r...</td>\n",
       "      <td>This is the newly formed pupper a capella grou...</td>\n",
       "      <td>NaN</td>\n",
       "      <td>NaN</td>\n",
       "      <td>NaN</td>\n",
       "      <td>https://twitter.com/dog_rates/status/685943807...</td>\n",
       "      <td>8</td>\n",
       "      <td>10</td>\n",
       "      <td>the</td>\n",
       "      <td>None</td>\n",
       "      <td>None</td>\n",
       "      <td>pupper</td>\n",
       "      <td>None</td>\n",
       "    </tr>\n",
       "    <tr>\n",
       "      <th>64</th>\n",
       "      <td>879674319642796034</td>\n",
       "      <td>8.795538e+17</td>\n",
       "      <td>3.105441e+09</td>\n",
       "      <td>2017-06-27 12:14:36 +0000</td>\n",
       "      <td>&lt;a href=\"http://twitter.com/download/iphone\" r...</td>\n",
       "      <td>@RealKentMurphy 14/10 confirmed</td>\n",
       "      <td>NaN</td>\n",
       "      <td>NaN</td>\n",
       "      <td>NaN</td>\n",
       "      <td>NaN</td>\n",
       "      <td>14</td>\n",
       "      <td>10</td>\n",
       "      <td>None</td>\n",
       "      <td>None</td>\n",
       "      <td>None</td>\n",
       "      <td>None</td>\n",
       "      <td>None</td>\n",
       "    </tr>\n",
       "    <tr>\n",
       "      <th>1813</th>\n",
       "      <td>676776431406465024</td>\n",
       "      <td>NaN</td>\n",
       "      <td>NaN</td>\n",
       "      <td>2015-12-15 14:50:49 +0000</td>\n",
       "      <td>&lt;a href=\"http://twitter.com/download/iphone\" r...</td>\n",
       "      <td>When someone yells \"cops!\" at a party and you ...</td>\n",
       "      <td>NaN</td>\n",
       "      <td>NaN</td>\n",
       "      <td>NaN</td>\n",
       "      <td>https://twitter.com/dog_rates/status/676776431...</td>\n",
       "      <td>10</td>\n",
       "      <td>10</td>\n",
       "      <td>None</td>\n",
       "      <td>None</td>\n",
       "      <td>None</td>\n",
       "      <td>None</td>\n",
       "      <td>None</td>\n",
       "    </tr>\n",
       "    <tr>\n",
       "      <th>1716</th>\n",
       "      <td>680206703334408192</td>\n",
       "      <td>NaN</td>\n",
       "      <td>NaN</td>\n",
       "      <td>2015-12-25 02:01:30 +0000</td>\n",
       "      <td>&lt;a href=\"http://twitter.com/download/iphone\" r...</td>\n",
       "      <td>I hope everyone enjoys this picture as much as...</td>\n",
       "      <td>NaN</td>\n",
       "      <td>NaN</td>\n",
       "      <td>NaN</td>\n",
       "      <td>https://twitter.com/dog_rates/status/680206703...</td>\n",
       "      <td>12</td>\n",
       "      <td>10</td>\n",
       "      <td>Toby</td>\n",
       "      <td>None</td>\n",
       "      <td>None</td>\n",
       "      <td>None</td>\n",
       "      <td>None</td>\n",
       "    </tr>\n",
       "  </tbody>\n",
       "</table>\n",
       "</div>"
      ],
      "text/plain": [
       "                tweet_id  in_reply_to_status_id  in_reply_to_user_id  \\\n",
       "1791  677335745548390400                    NaN                  NaN   \n",
       "1603  685943807276412928                    NaN                  NaN   \n",
       "64    879674319642796034           8.795538e+17         3.105441e+09   \n",
       "1813  676776431406465024                    NaN                  NaN   \n",
       "1716  680206703334408192                    NaN                  NaN   \n",
       "\n",
       "                      timestamp  \\\n",
       "1791  2015-12-17 03:53:20 +0000   \n",
       "1603  2016-01-09 21:58:42 +0000   \n",
       "64    2017-06-27 12:14:36 +0000   \n",
       "1813  2015-12-15 14:50:49 +0000   \n",
       "1716  2015-12-25 02:01:30 +0000   \n",
       "\n",
       "                                                 source  \\\n",
       "1791  <a href=\"http://vine.co\" rel=\"nofollow\">Vine -...   \n",
       "1603  <a href=\"http://twitter.com/download/iphone\" r...   \n",
       "64    <a href=\"http://twitter.com/download/iphone\" r...   \n",
       "1813  <a href=\"http://twitter.com/download/iphone\" r...   \n",
       "1716  <a href=\"http://twitter.com/download/iphone\" r...   \n",
       "\n",
       "                                                   text  retweeted_status_id  \\\n",
       "1791  Downright inspiring 12/10 https://t.co/vSLtYBWHcQ                  NaN   \n",
       "1603  This is the newly formed pupper a capella grou...                  NaN   \n",
       "64                      @RealKentMurphy 14/10 confirmed                  NaN   \n",
       "1813  When someone yells \"cops!\" at a party and you ...                  NaN   \n",
       "1716  I hope everyone enjoys this picture as much as...                  NaN   \n",
       "\n",
       "      retweeted_status_user_id retweeted_status_timestamp  \\\n",
       "1791                       NaN                        NaN   \n",
       "1603                       NaN                        NaN   \n",
       "64                         NaN                        NaN   \n",
       "1813                       NaN                        NaN   \n",
       "1716                       NaN                        NaN   \n",
       "\n",
       "                                          expanded_urls  rating_numerator  \\\n",
       "1791                      https://vine.co/v/hbLbH77Ar67                12   \n",
       "1603  https://twitter.com/dog_rates/status/685943807...                 8   \n",
       "64                                                  NaN                14   \n",
       "1813  https://twitter.com/dog_rates/status/676776431...                10   \n",
       "1716  https://twitter.com/dog_rates/status/680206703...                12   \n",
       "\n",
       "      rating_denominator  name doggo floofer  pupper puppo  \n",
       "1791                  10  None  None    None    None  None  \n",
       "1603                  10   the  None    None  pupper  None  \n",
       "64                    10  None  None    None    None  None  \n",
       "1813                  10  None  None    None    None  None  \n",
       "1716                  10  Toby  None    None    None  None  "
      ]
     },
     "execution_count": 118,
     "metadata": {},
     "output_type": "execute_result"
    }
   ],
   "source": [
    "df.sample(5)"
   ]
  },
  {
   "cell_type": "code",
   "execution_count": null,
   "metadata": {
    "collapsed": true
   },
   "outputs": [],
   "source": []
  }
 ],
 "metadata": {
  "kernelspec": {
   "display_name": "Python 3",
   "language": "python",
   "name": "python3"
  },
  "language_info": {
   "codemirror_mode": {
    "name": "ipython",
    "version": 3
   },
   "file_extension": ".py",
   "mimetype": "text/x-python",
   "name": "python",
   "nbconvert_exporter": "python",
   "pygments_lexer": "ipython3",
   "version": "3.6.2"
  }
 },
 "nbformat": 4,
 "nbformat_minor": 2
}
